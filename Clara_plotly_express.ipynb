{
  "nbformat": 4,
  "nbformat_minor": 0,
  "metadata": {
    "colab": {
      "name": "STUDENT plotly express.ipynb",
      "provenance": [],
      "collapsed_sections": [],
      "include_colab_link": true
    },
    "kernelspec": {
      "name": "python3",
      "display_name": "Python 3"
    }
  },
  "cells": [
    {
      "cell_type": "markdown",
      "metadata": {
        "id": "view-in-github",
        "colab_type": "text"
      },
      "source": [
        "<a href=\"https://colab.research.google.com/github/clara-louise/introduction-datascience-python-book/blob/master/Clara_plotly_express.ipynb\" target=\"_parent\"><img src=\"https://colab.research.google.com/assets/colab-badge.svg\" alt=\"Open In Colab\"/></a>"
      ]
    },
    {
      "cell_type": "markdown",
      "metadata": {
        "id": "HvyqF4o_B_G8",
        "colab_type": "text"
      },
      "source": [
        "###STUDENT'S VERSION/SOLUTIONS\n",
        "\n",
        "#Plotly Express: a Walkthrough\n",
        "\n",
        "\n",
        "Once you import Plotly Express (aka px), most plots are made with just one function call that accepts a tidy Pandas data frame, and a simple description of the plot you want to make. \n",
        "\n",
        "Here’s an example with the Gapminder dataset – which comes built-in!"
      ]
    },
    {
      "cell_type": "code",
      "metadata": {
        "id": "vTtws3hyB9Gb",
        "colab_type": "code",
        "colab": {}
      },
      "source": [
        "# px is the short form of plotly.express\n",
        "import plotly.express as px\n",
        "\n",
        "# take the built-in dataset in gapminder() and put it in a dataframe\n",
        "gapminder = px.data.gapminder()"
      ],
      "execution_count": 0,
      "outputs": []
    },
    {
      "cell_type": "markdown",
      "metadata": {
        "id": "y4s-lnUcn_YW",
        "colab_type": "text"
      },
      "source": [
        "look at the first 5 rows of gapminder"
      ]
    },
    {
      "cell_type": "code",
      "metadata": {
        "id": "qVMCIbKVoE-k",
        "colab_type": "code",
        "colab": {}
      },
      "source": [
        ""
      ],
      "execution_count": 0,
      "outputs": []
    },
    {
      "cell_type": "markdown",
      "metadata": {
        "id": "qZWu-_dUDwB4",
        "colab_type": "text"
      },
      "source": [
        "create a new dataframe for only 2007 and call it gapminder2007. "
      ]
    },
    {
      "cell_type": "code",
      "metadata": {
        "id": "8UjhIafDCRAE",
        "colab_type": "code",
        "colab": {}
      },
      "source": [
        "gapminder2007 = gapminder.query(\"year==2007\")"
      ],
      "execution_count": 0,
      "outputs": []
    },
    {
      "cell_type": "markdown",
      "metadata": {
        "id": "7oibQbwaoNa5",
        "colab_type": "text"
      },
      "source": [
        "look at the first 5 rows of gapminder2007"
      ]
    },
    {
      "cell_type": "code",
      "metadata": {
        "id": "5rDXQZq8oN8x",
        "colab_type": "code",
        "colab": {}
      },
      "source": [
        ""
      ],
      "execution_count": 0,
      "outputs": []
    },
    {
      "cell_type": "markdown",
      "metadata": {
        "id": "eO-fCCFgT-e9",
        "colab_type": "text"
      },
      "source": [
        "For example if you want a simple scatter plot, it’s just `px.scatter(data, x=\"column_name\", y=\"column_name\")`. Create a scatter plot of GPD per capita vs life expectancy for 2007. Go back to the dataframe to see the names of the columns. Column names are case senstive."
      ]
    },
    {
      "cell_type": "code",
      "metadata": {
        "id": "AMwd987CC3sV",
        "colab_type": "code",
        "colab": {}
      },
      "source": [
        ""
      ],
      "execution_count": 0,
      "outputs": []
    },
    {
      "cell_type": "markdown",
      "metadata": {
        "id": "Q_JRJQJ7Dq4J",
        "colab_type": "text"
      },
      "source": [
        "If you want to break that down **by continent**, you can color your points with the `color` argument and px takes care of the details:"
      ]
    },
    {
      "cell_type": "code",
      "metadata": {
        "id": "cDBnkhLbC6TQ",
        "colab_type": "code",
        "colab": {}
      },
      "source": [
        ""
      ],
      "execution_count": 0,
      "outputs": []
    },
    {
      "cell_type": "markdown",
      "metadata": {
        "id": "AcxLe74jDmu6",
        "colab_type": "text"
      },
      "source": [
        "Each point here is a country, so maybe we want to scale the points by the country population… no problem: there’s an arg for that too! Use `size=` and scale it by **population**. Look back at the dataframe to see how population is labelled.\n",
        "\n",
        "Remember if you put your cursor inside the brackets of `px.scatter()` then press TAB it'll tell you which arguments it can accept.\n",
        "\n"
      ]
    },
    {
      "cell_type": "code",
      "metadata": {
        "id": "Q4HzOgmfDJf5",
        "colab_type": "code",
        "colab": {}
      },
      "source": [
        ""
      ],
      "execution_count": 0,
      "outputs": []
    },
    {
      "cell_type": "markdown",
      "metadata": {
        "id": "K6Z9XlNcDgYv",
        "colab_type": "text"
      },
      "source": [
        "Curious about which point is which **country**? Add a `hover_name` and you can easily identify any point: never again wonder “what is that outlier?”... just mouse over the point you're interested in!\n"
      ]
    },
    {
      "cell_type": "code",
      "metadata": {
        "id": "uACy6cr4DTMi",
        "colab_type": "code",
        "colab": {}
      },
      "source": [
        ""
      ],
      "execution_count": 0,
      "outputs": []
    },
    {
      "cell_type": "markdown",
      "metadata": {
        "id": "GrMOWgIhELtQ",
        "colab_type": "text"
      },
      "source": [
        "You could facet your plots, just as easily as coloring your points with `facet_col=\"continent\"`, and let's make the x-axis logarithmic to see things more clearly.\n",
        "\n",
        "try double clicking on legend items to isolate that in the chart. or select an area of the chart to zoom in.  double click to pan out."
      ]
    },
    {
      "cell_type": "code",
      "metadata": {
        "id": "PQolNFcMDekx",
        "colab_type": "code",
        "colab": {}
      },
      "source": [
        ""
      ],
      "execution_count": 0,
      "outputs": []
    },
    {
      "cell_type": "markdown",
      "metadata": {
        "id": "GSHjrQcYKaPm",
        "colab_type": "text"
      },
      "source": [
        "Maybe you're interested in more than just 2007 and you want to see how this chart evolved over time. You can animate it by setting `animation_frame=\"year\"` and `animation_group=\"country\"` to identify which circles match which ones across frames. "
      ]
    },
    {
      "cell_type": "code",
      "metadata": {
        "id": "iiUpuhG4Emc_",
        "colab_type": "code",
        "colab": {}
      },
      "source": [
        ""
      ],
      "execution_count": 0,
      "outputs": []
    },
    {
      "cell_type": "markdown",
      "metadata": {
        "id": "qYYhcpnLVq2e",
        "colab_type": "text"
      },
      "source": [
        "In this final version, let's tweak some of the display here, as text like \"gdpPercap\" is kind of ugly even though it's the name of our data frame column. We can provide prettier labels that get applied throughout the figure, in legends, axis titles and hovers. We can also provide some manual bounds so the animation looks nice throughout. Use a range for x of 100 to 100000. For y, use a range of 25 to 90 years."
      ]
    },
    {
      "cell_type": "code",
      "metadata": {
        "id": "XXF4pvD-JvpO",
        "colab_type": "code",
        "colab": {}
      },
      "source": [
        ""
      ],
      "execution_count": 0,
      "outputs": []
    },
    {
      "cell_type": "markdown",
      "metadata": {
        "id": "y8kGkAq-NpDH",
        "colab_type": "text"
      },
      "source": [
        "Because this is geographic data, we can also represent it as an animated map, which makes it clear that px can make way more than just scatterplots, and that this dataset is missing data for the former Soviet Union. You can use `px.choropleth()`"
      ]
    },
    {
      "cell_type": "code",
      "metadata": {
        "id": "e4RN8jy6K1Wn",
        "colab_type": "code",
        "colab": {}
      },
      "source": [
        ""
      ],
      "execution_count": 0,
      "outputs": []
    },
    {
      "cell_type": "markdown",
      "metadata": {
        "id": "w6nnGZJcWQYG",
        "colab_type": "text"
      },
      "source": [
        "A major part of data exploration is understanding the distribution of values in a dataset, and how those distributions relate to each other. Plotly Express includes a number of functions to do just that. Visualize univariate distributions with histograms, box-and-whisker or violin plots:"
      ]
    },
    {
      "cell_type": "code",
      "metadata": {
        "id": "cXdUjBWnOGyS",
        "colab_type": "code",
        "colab": {}
      },
      "source": [
        "# tips is another built-in dataset\n",
        "tips = px.data.tips()"
      ],
      "execution_count": 0,
      "outputs": []
    },
    {
      "cell_type": "markdown",
      "metadata": {
        "id": "YEsB7dZVwAIL",
        "colab_type": "text"
      },
      "source": [
        "Create a histogram plot of total bill versus tip. Look inside the dataframe tips to know what the columns are called.\n",
        "\n"
      ]
    },
    {
      "cell_type": "code",
      "metadata": {
        "id": "zsudSOjXWToP",
        "colab_type": "code",
        "colab": {}
      },
      "source": [
        ""
      ],
      "execution_count": 0,
      "outputs": []
    },
    {
      "cell_type": "markdown",
      "metadata": {
        "id": "7wdSVsIIwcY3",
        "colab_type": "text"
      },
      "source": [
        "Create a box plot of total bill versus day. Categorize them by day of the week."
      ]
    },
    {
      "cell_type": "code",
      "metadata": {
        "id": "QuCAtTlpWW8i",
        "colab_type": "code",
        "colab": {}
      },
      "source": [
        ""
      ],
      "execution_count": 0,
      "outputs": []
    },
    {
      "cell_type": "markdown",
      "metadata": {
        "id": "VOWH7Emzwxrj",
        "colab_type": "text"
      },
      "source": [
        "Create a violin plot of smoker type versus tip. Color by gender."
      ]
    },
    {
      "cell_type": "code",
      "metadata": {
        "id": "XSSdav9xWeIn",
        "colab_type": "code",
        "colab": {}
      },
      "source": [
        ""
      ],
      "execution_count": 0,
      "outputs": []
    },
    {
      "cell_type": "markdown",
      "metadata": {
        "id": "HaqQaUW2WkSK",
        "colab_type": "text"
      },
      "source": [
        "You can also visualize bivariate distributions with marginal rugs, histograms, boxes or violins, and you can add trendlines too. px even helpfully adds the line's equation and R² in the hover box for you! It uses statsmodels under the hood to do either Ordinary Least Squares (OLS) regression or Locally Weighted Scatterplot Smoothing (LOWESS)."
      ]
    },
    {
      "cell_type": "code",
      "metadata": {
        "id": "xUOYXZk4Wg-n",
        "colab_type": "code",
        "colab": {}
      },
      "source": [
        ""
      ],
      "execution_count": 0,
      "outputs": []
    },
    {
      "cell_type": "code",
      "metadata": {
        "id": "X8aGws51WnVr",
        "colab_type": "code",
        "colab": {}
      },
      "source": [
        ""
      ],
      "execution_count": 0,
      "outputs": []
    }
  ]
}